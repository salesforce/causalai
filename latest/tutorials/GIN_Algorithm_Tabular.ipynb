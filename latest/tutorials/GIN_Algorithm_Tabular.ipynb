{
 "cells": [
  {
   "cell_type": "markdown",
   "id": "9496a04f",
   "metadata": {},
   "source": [
    "# Generalized Independent Noise (GIN)"
   ]
  },
  {
   "cell_type": "markdown",
   "id": "09327eb3",
   "metadata": {},
   "source": [
    "Generalized Independent Noise (GIN) is a method for causal discovery for tabular data when there are hidden confounder variables.\n",
    "\n",
    "Let X denote the set of all the observed variables and L the set of unknown groud truth hidden variables. \n",
    "Then this algorithm makes the following **assumptions**:\n",
    "1. There is no observed variable in X, that is an ancestor of any latent variables in L.\n",
    "2. The noise terms are non-Gaussian.\n",
    "3. Each latent variable set L' in L, in which every latent variable directly causes the same set of \n",
    "observed variables, has at least 2Dim(L') pure measurement variables as children.\n",
    "4. There is no direct edge between observed variables.\n"
   ]
  },
  {
   "cell_type": "code",
   "execution_count": 1,
   "id": "7f2983b5",
   "metadata": {},
   "outputs": [],
   "source": [
    "import numpy as np\n",
    "import matplotlib\n",
    "from matplotlib import pyplot as plt\n",
    "%matplotlib inline     \n",
    "import pickle as pkl\n",
    "import time\n",
    "import random"
   ]
  },
  {
   "cell_type": "code",
   "execution_count": 2,
   "id": "e7c47f7a",
   "metadata": {},
   "outputs": [],
   "source": [
    "\n",
    "from causalai.models.tabular.gin import GIN\n",
    "from causalai.models.common.CI_tests.partial_correlation import PartialCorrelation\n",
    "from causalai.models.common.CI_tests.discrete_ci_tests import DiscreteCI_tests\n",
    "from causalai.models.common.CI_tests.kci import KCI\n",
    "\n",
    "\n",
    "# also importing data object, data transform object, and prior knowledge object, and the graph plotting function\n",
    "from causalai.data.data_generator import DataGenerator, GenerateRandomTabularSEM\n",
    "from causalai.data.tabular import TabularData\n",
    "from causalai.data.transforms.time_series import StandardizeTransform\n",
    "from causalai.models.common.prior_knowledge import PriorKnowledge\n",
    "from causalai.misc.misc import plot_graph, get_precision_recall, get_precision_recall_skeleton, make_symmetric"
   ]
  },
  {
   "cell_type": "markdown",
   "id": "27e5feb8",
   "metadata": {},
   "source": [
    "## Load and Visualize Data"
   ]
  },
  {
   "cell_type": "markdown",
   "id": "0c862feb",
   "metadata": {},
   "source": [
    "Load the dataset and visualize the ground truth causal graph. For the purpose of this example, we will use a synthetic dataset available in our repository.\n",
    "\n",
    "Note that the assumption of GIN restricts the way edges are allowed between the nodes. As described above, latent variables cause each other, as well as the observed variables, and there are no edges between the observed variables. Finally, the noise terms must be non-Gaussian. We generate such a graph and data below."
   ]
  },
  {
   "cell_type": "markdown",
   "id": "91a9c69b",
   "metadata": {},
   "source": [
    "### Example 1"
   ]
  },
  {
   "cell_type": "code",
   "execution_count": 3,
   "id": "0f86d732",
   "metadata": {},
   "outputs": [
    {
     "name": "stdout",
     "output_type": "stream",
     "text": [
      "data_array shape (500, 6)\n"
     ]
    },
    {
     "data": {
      "text/plain": [
       "{'L0': [], 'L1': ['L0'], 'a': ['L0'], 'b': ['L0'], 'c': ['L1'], 'd': ['L1']}"
      ]
     },
     "execution_count": 3,
     "metadata": {},
     "output_type": "execute_result"
    }
   ],
   "source": [
    "\n",
    "def noise_fn(num_samples):\n",
    "    return np.random.uniform(-1., 1., size=num_samples)\n",
    "def noise_fn1(num_samples):\n",
    "    return np.random.uniform(-0.2, 0.2, size=num_samples)\n",
    "fn = lambda x:x\n",
    "coef = 1.\n",
    "sem = {\n",
    "        'L0': [], \n",
    "        'L1': [('L0', coef, fn)], \n",
    "        'a': [('L0', coef, fn),], \n",
    "        'b': [('L0', coef, fn),], \n",
    "        'c': [('L1', coef, fn),], \n",
    "        'd': [('L1', coef, fn),], \n",
    "        }\n",
    "T = 500\n",
    "nvars = len(sem.keys())\n",
    "noise_fn = [noise_fn]*2 +[noise_fn1]*(nvars-2)\n",
    "data_array0, var_names, graph_gt = DataGenerator(sem, T=T, seed=0, discrete=False, noise_fn=noise_fn)\n",
    "\n",
    "print(f'data_array shape {data_array0.shape}')\n",
    "graph_gt"
   ]
  },
  {
   "cell_type": "markdown",
   "id": "f9fcedc4",
   "metadata": {},
   "source": [
    "\n",
    "\n",
    "Now we perform the following operations:\n",
    "\n",
    "1. Standardize the data arrays\n",
    "2. Create the data object\n",
    "\n",
    "**NOTE**: We first remove the variables L0 and L1 from the data to treat them as hidden variables. "
   ]
  },
  {
   "cell_type": "code",
   "execution_count": 4,
   "id": "f6185057",
   "metadata": {
    "scrolled": true
   },
   "outputs": [],
   "source": [
    "\n",
    "data_array = data_array0[:,2:] # remove L0 and L1 and treat them as latent variables\n",
    "\n",
    "# 1.\n",
    "StandardizeTransform_ = StandardizeTransform()\n",
    "StandardizeTransform_.fit(data_array)\n",
    "\n",
    "data_trans = StandardizeTransform_.transform(data_array)\n",
    "\n",
    "# 2.\n",
    "data_obj = TabularData(data_trans, var_names=var_names[2:])\n"
   ]
  },
  {
   "cell_type": "markdown",
   "id": "9d2f4e9c",
   "metadata": {},
   "source": [
    "We visualize the data and graph below:"
   ]
  },
  {
   "cell_type": "code",
   "execution_count": 5,
   "id": "37e95589",
   "metadata": {},
   "outputs": [
    {
     "data": {
      "image/png": "[encoded data removed]",
      "text/plain": [
       "<Figure size 640x480 with 1 Axes>"
      ]
     },
     "metadata": {},
     "output_type": "display_data"
    }
   ],
   "source": [
    "plot_graph(graph_gt, node_size=400)"
   ]
  },
  {
   "cell_type": "code",
   "execution_count": 6,
   "id": "46924a0d",
   "metadata": {
    "scrolled": true
   },
   "outputs": [],
   "source": [
    "\n",
    "pvalue_thres = 0.01\n",
    "CI_test = KCI(chunk_size=1000) \n",
    "# chunk_size refers to the max kernel size used by the KCI module and is meant to control the computational budget\n",
    "# chunk_size does not affect results in this case since the number of samples is 500<1000 in this example\n",
    "model = GIN(\n",
    "        data=data_obj,\n",
    "        prior_knowledge=None, #  prior_knowledge is not supported in GIN\n",
    "        CI_test=CI_test,\n",
    "        use_multiprocessing=True # use_multiprocessing not supported\n",
    "        )\n"
   ]
  },
  {
   "cell_type": "code",
   "execution_count": 7,
   "id": "8cfd285b",
   "metadata": {
    "scrolled": true
   },
   "outputs": [
    {
     "data": {
      "text/plain": [
       "[['a', 'b'], ['c', 'd']]"
      ]
     },
     "execution_count": 7,
     "metadata": {},
     "output_type": "execute_result"
    }
   ],
   "source": [
    "result = model.run(pvalue_thres=pvalue_thres)\n",
    "model.causal_order"
   ]
  },
  {
   "cell_type": "code",
   "execution_count": 8,
   "id": "687840e0",
   "metadata": {
    "scrolled": true
   },
   "outputs": [
    {
     "name": "stdout",
     "output_type": "stream",
     "text": [
      "Predicted parents:\n",
      "L0: []\n",
      "a: ['L0']\n",
      "b: ['L0']\n",
      "L1: ['L0']\n",
      "c: ['L1']\n",
      "d: ['L1']\n",
      "\n",
      "\n",
      "Ground truth parents:\n",
      "L0: []\n",
      "L1: ['L0']\n",
      "a: ['L0']\n",
      "b: ['L0']\n",
      "c: ['L1']\n",
      "d: ['L1']\n",
      "Precision 1.00, Recall: 1.00, F1 score: 1.00\n"
     ]
    }
   ],
   "source": [
    "print(f'Predicted parents:')\n",
    "\n",
    "graph_est={n:[] for n in result.keys()}\n",
    "for key in result.keys():\n",
    "    parents = result[key]['parents']\n",
    "    graph_est[key].extend(parents)\n",
    "    print(f'{key}: {parents}')\n",
    "print()\n",
    "\n",
    "print(f\"\\nGround truth parents:\")  \n",
    "for key in graph_gt.keys():\n",
    "    print(f'{key}: {graph_gt[key]}')\n",
    "    \n",
    "precision, recall, f1_score = get_precision_recall(graph_est, graph_gt)\n",
    "print(f'Precision {precision:.2f}, Recall: {recall:.2f}, F1 score: {f1_score:.2f}')\n"
   ]
  },
  {
   "cell_type": "markdown",
   "id": "268901c2",
   "metadata": {},
   "source": [
    "**Note**: To avoid confusion, we note that we have used L0 and L1 as the names of the latent variables in the ground truth data variable names. The GIN algorithm implementation in the CausalAI library use the naming convention 'Li' to name the latent variables, where i an integer. This is what makes the name of the estimated latent variable names look identical to the ground truth latet variable names. There is no magic happening here."
   ]
  },
  {
   "cell_type": "markdown",
   "id": "4e3e9418",
   "metadata": {},
   "source": [
    "### Example 2"
   ]
  },
  {
   "cell_type": "code",
   "execution_count": 9,
   "id": "71956aea",
   "metadata": {},
   "outputs": [
    {
     "name": "stdout",
     "output_type": "stream",
     "text": [
      "data_array shape (500, 12)\n"
     ]
    },
    {
     "data": {
      "text/plain": [
       "{'L0': [],\n",
       " 'L1': ['L0'],\n",
       " 'L2': ['L0', 'L1'],\n",
       " 'a': ['L0'],\n",
       " 'b': ['L0'],\n",
       " 'c': ['L0'],\n",
       " 'd': ['L1'],\n",
       " 'e': ['L1'],\n",
       " 'f': ['L1'],\n",
       " 'g': ['L2'],\n",
       " 'h': ['L2'],\n",
       " 'i': ['L2']}"
      ]
     },
     "execution_count": 9,
     "metadata": {},
     "output_type": "execute_result"
    }
   ],
   "source": [
    "\n",
    "def noise_fn(num_samples):\n",
    "    return np.random.uniform(-1., 1., size=num_samples)\n",
    "def noise_fn1(num_samples):\n",
    "    return np.random.uniform(-0.2, 0.2, size=num_samples)\n",
    "fn = lambda x:x\n",
    "coef = 1.4\n",
    "sem = {\n",
    "        'L0': [], \n",
    "        'L1': [('L0', coef, fn)], \n",
    "        'L2': [('L0', coef, fn), ('L1', coef, fn)], \n",
    "        'a': [('L0', coef, fn),], \n",
    "        'b': [('L0', coef, fn),], \n",
    "        'c': [('L0', coef, fn),], \n",
    "        'd': [('L1', coef, fn),], \n",
    "        'e': [('L1', coef, fn),], \n",
    "        'f': [('L1', coef, fn),], \n",
    "        'g': [('L2', coef, fn),], \n",
    "        'h': [('L2', coef, fn),], \n",
    "        'i': [('L2', coef, fn),], \n",
    "        }\n",
    "T = 500\n",
    "nvars = len(sem.keys())\n",
    "noise_fn = [noise_fn]*3 +[noise_fn1]*(nvars-3)\n",
    "data_array0, var_names, graph_gt = DataGenerator(sem, T=T, seed=1, discrete=False, noise_fn=noise_fn)\n",
    "\n",
    "print(f'data_array shape {data_array0.shape}')\n",
    "# print(var_names)\n",
    "graph_gt\n"
   ]
  },
  {
   "cell_type": "code",
   "execution_count": 10,
   "id": "078ae08b",
   "metadata": {},
   "outputs": [],
   "source": [
    "\n",
    "data_array = data_array0[:,3:] # remove L0, L1 and L2 and treat them as latent variables\n",
    "\n",
    "# # 1.\n",
    "StandardizeTransform_ = StandardizeTransform()\n",
    "StandardizeTransform_.fit(data_array)\n",
    "\n",
    "data_trans = StandardizeTransform_.transform(data_array)\n",
    "\n",
    "# 2.\n",
    "data_obj = TabularData(data_trans, var_names=var_names[3:])\n"
   ]
  },
  {
   "cell_type": "code",
   "execution_count": 11,
   "id": "34531d1c",
   "metadata": {},
   "outputs": [],
   "source": [
    "\n",
    "pvalue_thres = 0.01\n",
    "CI_test = KCI(chunk_size=1000)\n",
    "model = GIN(\n",
    "        data=data_obj,\n",
    "        prior_knowledge=None, #  prior_knowledge is not supported in GIN\n",
    "        CI_test=CI_test,\n",
    "        use_multiprocessing=True\n",
    "        )\n"
   ]
  },
  {
   "cell_type": "code",
   "execution_count": 12,
   "id": "72926e14",
   "metadata": {
    "scrolled": true
   },
   "outputs": [
    {
     "data": {
      "text/plain": [
       "[['a', 'b', 'c'], ['d', 'e', 'f'], ['g', 'i', 'h']]"
      ]
     },
     "execution_count": 12,
     "metadata": {},
     "output_type": "execute_result"
    }
   ],
   "source": [
    "result = model.run(pvalue_thres=pvalue_thres)\n",
    "model.causal_order"
   ]
  },
  {
   "cell_type": "code",
   "execution_count": 13,
   "id": "532fbbb1",
   "metadata": {
    "scrolled": false
   },
   "outputs": [
    {
     "name": "stdout",
     "output_type": "stream",
     "text": [
      "Predicted parents:\n",
      "L0: []\n",
      "a: ['L0']\n",
      "b: ['L0']\n",
      "c: ['L0']\n",
      "L1: ['L0']\n",
      "d: ['L1']\n",
      "e: ['L1']\n",
      "f: ['L1']\n",
      "L2: ['L0', 'L1']\n",
      "g: ['L2']\n",
      "i: ['L2']\n",
      "h: ['L2']\n",
      "\n",
      "\n",
      "Ground truth parents:\n",
      "L0: []\n",
      "L1: ['L0']\n",
      "L2: ['L0', 'L1']\n",
      "a: ['L0']\n",
      "b: ['L0']\n",
      "c: ['L0']\n",
      "d: ['L1']\n",
      "e: ['L1']\n",
      "f: ['L1']\n",
      "g: ['L2']\n",
      "h: ['L2']\n",
      "i: ['L2']\n",
      "Precision 1.00, Recall: 1.00, F1 score: 1.00\n"
     ]
    }
   ],
   "source": [
    "print(f'Predicted parents:')\n",
    "\n",
    "graph_est={n:[] for n in result.keys()}\n",
    "for key in result.keys():\n",
    "    parents = result[key]['parents']\n",
    "    graph_est[key].extend(parents)\n",
    "    print(f'{key}: {parents}')\n",
    "print()\n",
    "\n",
    "print(f\"\\nGround truth parents:\")  \n",
    "for key in graph_gt.keys():\n",
    "    print(f'{key}: {graph_gt[key]}')\n",
    "    \n",
    "precision, recall, f1_score = get_precision_recall(graph_est, graph_gt)\n",
    "print(f'Precision {precision:.2f}, Recall: {recall:.2f}, F1 score: {f1_score:.2f}')\n"
   ]
  },
  {
   "cell_type": "markdown",
   "id": "f86b0eb1",
   "metadata": {},
   "source": [
    "**Note**: To avoid confusion, we note that we have used L0, L1 and L2 as the names of the latent variables in the ground truth data variable names. The GIN algorithm implementation in the CausalAI library use the naming convention 'Li' to name the latent variables, where i an integer. This is what makes the name of the estimated latent variable names look identical to the ground truth latet variable names. There is no magic happening here."
   ]
  },
  {
   "cell_type": "code",
   "execution_count": null,
   "id": "8bacfdcb",
   "metadata": {},
   "outputs": [],
   "source": []
  },
  {
   "cell_type": "code",
   "execution_count": null,
   "id": "4db05a26",
   "metadata": {},
   "outputs": [],
   "source": []
  },
  {
   "cell_type": "code",
   "execution_count": null,
   "id": "abd665f4",
   "metadata": {},
   "outputs": [],
   "source": []
  }
 ],
 "metadata": {
  "kernelspec": {
   "display_name": "Python 3 (ipykernel)",
   "language": "python",
   "name": "python3"
  },
  "language_info": {
   "codemirror_mode": {
    "name": "ipython",
    "version": 3
   },
   "file_extension": ".py",
   "mimetype": "text/x-python",
   "name": "python",
   "nbconvert_exporter": "python",
   "pygments_lexer": "ipython3",
   "version": "3.9.16"
  }
 },
 "nbformat": 4,
 "nbformat_minor": 5
}
