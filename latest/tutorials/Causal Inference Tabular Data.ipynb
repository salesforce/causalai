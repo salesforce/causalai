{
 "cells": [
  {
   "cell_type": "markdown",
   "id": "2a05517e",
   "metadata": {},
   "source": [
    "# Causal Inference for Tabular Data"
   ]
  },
  {
   "cell_type": "markdown",
   "id": "24fa4952",
   "metadata": {},
   "source": [
    "Causal inference involves finding the effect of intervention on one set of variables, on another variable. For instance, if A->B->C. Then all the three variables may be correlated, but intervention on C, does not affect the values of B, since C is not a causal ancestor of of B. But on the other hand, interventions on A or B, both affect the values of C. \n",
    "\n",
    "While there are many different kinds of causal inference questions one may be interested in, we currently support three kinds-- \n",
    "1. Average Treatment Effect (ATE), \n",
    "2. Conditional ATE (CATE), and \n",
    "3. Couterfactuals. \n",
    "\n",
    "In **ATE**, we intervene on one set of variables with a treatment value and a control value, and estimate the expected change in value of some specified target variable. Mathematically,\n",
    "\n",
    "$$\\texttt{ATE} = \\mathbb{E}[Y | \\texttt{do}(X=x_t)] - \\mathbb{E}[Y | \\texttt{do}(X=x_c)]$$\n",
    "\n",
    "where $\\texttt{do}$ denotes the intervention operation. In words, ATE aims to determine the relative expected difference in the value of $Y$ when we intervene $X$ to be $x_t$ compared to when we intervene $X$ to be $x_c$. Here $x_t$ and $x_c$ are respectively the treatment value and control value.\n",
    "\n",
    "**CATE** makes a similar estimate, but under some condition specified for a set of variables. Mathematically,\n",
    "\n",
    "$$\\texttt{CATE} = \\mathbb{E}[Y | \\texttt{do}(X=x_t), C=c] - \\mathbb{E}[Y | \\texttt{do}(X=x_c), C=c]$$\n",
    "\n",
    "where we condition on some set of variables $C$ taking value $c$. Notice here that $X$ is intervened but $C$ is not. \n",
    "\n",
    "While ATE and CATE estimate expectation over the population, **Counterfactuals** aim at estimating the effect of an intervention on a specific instance or sample. Suppose we have a specific instance of a system of random variables $(X_1, X_2,...,X_N)$ given by $(X_1=x_1, X_2=x_2,...,X_N=x_N)$, then in a counterfactual, we want to know the effect an intervention (say) $X_1=k$ would have had on some other variable(s) (say $X_2$), holding all the remaining variables fixed. Mathematically, this can be expressed as,\n",
    "\n",
    "$$\\texttt{Counterfactual} = X_2 | \\texttt{do}(X_1=k), X_3=x_3, X_4=4,\\cdots,X_N=x_N$$\n",
    "\n",
    "To understand how causal inference works in the case of time series, let's consider the following graph as an example:"
   ]
  },
  {
   "cell_type": "code",
   "execution_count": 1,
   "id": "2a1be04c",
   "metadata": {
    "scrolled": false
   },
   "outputs": [
    {
     "data": {
      "image/png": "[encoded data removed]",
      "text/plain": [
       "<Figure size 640x480 with 1 Axes>"
      ]
     },
     "metadata": {},
     "output_type": "display_data"
    }
   ],
   "source": [
    "from causalai.misc.misc import plot_graph\n",
    "from causalai.data.data_generator import DataGenerator\n",
    "\n",
    "    \n",
    "fn = lambda x:x\n",
    "coef = 1.\n",
    "sem = {\n",
    "        'a': [], \n",
    "        'b': [('a', coef, fn),],\n",
    "        'c': [('b', coef, fn), ('e', coef, fn),],\n",
    "        'd': [('c', coef, fn),],\n",
    "        'e': [('a', coef, fn),],\n",
    "        }\n",
    "T = 2000\n",
    "data,var_names,graph_gt = DataGenerator(sem, T=T, seed=0)\n",
    "plot_graph(graph_gt, node_size=500)"
   ]
  },
  {
   "cell_type": "markdown",
   "id": "fd5e64f7",
   "metadata": {},
   "source": [
    "Given this graph with 5 variables-- a b, c, d and e, and some observational tabular data in the form for a $T \\times 4$ \n",
    "matrix, suppose we want to estimate the causal effect of interventions of\n",
    "the variable b on variable d. The SCM for this graph takes the form:\n",
    "\n",
    "$$a = n_a $$\n",
    "$$b = f_b(a) + n_b $$\n",
    "$$c = f_c(b,e) + n_c $$\n",
    "$$d = f_d(c) + n_d $$\n",
    "$$e = n_e $$\n",
    "\n",
    "Here $n_x$ are noise terms. Then intervening the values of the variable b at each time step, i.e., $do(b)$, causally affects\n",
    "the values of $d$. This is because $d$ directly depends on $c$, and $c$ depends on $b$, thus there is an indirect \n",
    "causal effect. \n",
    "\n",
    "Notice that if we were to intervene both $a$ and $b$, the intervention of $a$ \n",
    "would not have any impact on $d$ because it is blocked by $b$, which is also intervened. On the other hand, if we \n",
    "were to intervene $c$ in addition to $b$ or $e$, then the intervention on $b$ and $e$ would not have any impact on $d$ because it \n",
    "would be blocked by $c$.\n",
    "\n",
    "Coming back to the example shown in the above graph, we have established that an intervention on the values of $b$ \n",
    "impacts the values of $d$. Now suppose we want to calculate the treatment effect (say ATE) of this intervention on \n",
    "$d$. For the purpose of this exposition, let's consider just one of the terms in the ATE formula above, since both \n",
    "the terms have the same form. Specifically, we want to calculate,\n",
    "\n",
    "$$\\mathbb{E}[d | \\texttt{do}(b)]$$\n",
    "Conceptually, this is achieved by setting the value of $b=v$ ($v$ is the desired intervention value) in the observational data \n",
    "for all samples, then traverse the causal graph\n",
    "in the order $b$, $c$, and $d$ (the causal order), for each observation. At edge $b->c$, we use the function $f_c$, to predict the causal effect of the intervened values of $b$ along with the observed value of $e$ on $c$. And similarly, at edge $c->d$, we use the function $f_d$, to predict the causal effect of the new values of $c$ on $d$. This finally yields the causal effect of the intervention of $b$ on the variable $d$ for all obervaational data. To compute the expectation $\\mathbb{E}[d | \\texttt{do}(b)]$, we simply take the average effect on $d$ over all the observational data.\n",
    "\n",
    "Notice that we do not need \n",
    "to evaluate the equation for $a$ in this process because its value has on impact on $d$ once we intervene $b$. This saves computation. We would \n",
    "similarly have ignored any other variable during this computation if it was either not affected by the intervention, \n",
    "or if there was no causal path from that variable to the target variable $d$.\n",
    "\n",
    "\n",
    "Now that we have a conceptual understanding, we point out that in reality, the functions $f_x$ for $x \\in \\{b,c,d \\}$ are unknown in practice. In fact, given only observational data, we do not even know the causal graph as the one shown in the example above. Therefore, causal inference is treated as a two step process. First we estimate the causal graph using the observational data. We then use one of the various techniques to perform causal inference given both the observational data and the causal graph.\n",
    "\n",
    "## Causal Inferencne methods supported by CausalAI\n",
    "\n",
    "In our library, for tabular data, we support two methods for perform causal inference-- the **backdoor adjustment set method**, and another method that simulates the conceptual process described above for causal inference, that we will refer to as **causal_path method**.\n",
    "\n",
    "#### causal_path method (defaut)\n",
    "\n",
    "Let's begin with the causal_path method. Conceptually, this method works in two steps. For illustration, let's use the causal graph shown above as our example.\n",
    "1. We train two models $P_{\\theta_1}(c|b)$ and $P_{\\theta_2}(d|c)$ to predict c from b, and d from c, using the observational data. We have not used the intervention information in this step.\n",
    "2. we set the value of $b=v$ ($v$ is the desired intervention value) for all the samples in the observational data, then traverse the causal graph\n",
    "in the order $b$, $c$, and $d$ (the causal order), for each observation. For each of the nodes c and d, we use the corresponding trained models $P_{\\theta_1}(c|b)$ and $P_{\\theta_2}(d|c)$ as proxies for the unknown functions $f_c$ and $f_d$, and follow the steps described above to estimate the causal effect.\n",
    "\n",
    "#### Backdoor method\n",
    "Given an intervention variable $X$ and a target variable $Y$, the backdoor method tries to find an adjustment set $Z$, that blocks all the backdoor paths between $X$ and $Y$, which are essentially the non-causal paths from $X$ to $Y$. Given such a set $Z$, we can use the the following result (Theorem 1) from Pearl 1995 (Causal diagrams for empirical research):\n",
    "\n",
    "$$P(y | do(X)) = \\sum_z P(y | X, Z). P(Z) \\approx (1/T) . P(y | X, Z)$$\n",
    "\n",
    "The backdoor criterion is defined as follows: A set of variables $Z$ satisfies the back-door criterion relative to an ordered pair of variables $(X_i,X_j)$ in a directed acyclic graph G if: (i) no node in $Z$ is a descendant of $X_i$, and (ii) $Z$ blocks every path between $X$, and $X_j$ which contains an arrow into $X$,. If $X$ and $Y$ are two disjoint sets of nodes in G, $Z$ is said to satisfy the back-door criterion relative to $(X, Y)$ if it satisfies it relative to any pair $(X_i,X_j)$ such that $X_i \\in X$ and $X_j \\in Y$.\n",
    "\n",
    "For the causal graph in the example, the path $b <- a -> e -> c -> d$ is a valid backdoor path, since it contains an arrow into the intervention variable $b$, and $b$ and $d$ are the two end points of the path. The backdoor adjustment set corresponding to this path would be any one of $\\{ a,e \\}$, $\\{ a \\}$, and $\\{ e \\}$. This is because conditioning on any one of these sets blocks the path from aforementioned backdoor path. Note that variable $c$ cannot be part of the adjustment set as it is a descendant of the intervention variable $b$. For more details, see the documentation on tabular causal inference."
   ]
  },
  {
   "cell_type": "code",
   "execution_count": 2,
   "id": "30a59732",
   "metadata": {},
   "outputs": [],
   "source": [
    "import numpy as np\n",
    "import matplotlib\n",
    "from matplotlib import pyplot as plt\n",
    "%matplotlib inline\n",
    "import pickle as pkl\n",
    "import time\n",
    "from functools import partial\n",
    "\n",
    "from causalai.data.data_generator import DataGenerator, ConditionalDataGenerator\n",
    "from causalai.models.tabular.causal_inference import CausalInference\n",
    "from sklearn.linear_model import LinearRegression\n",
    "from sklearn.neural_network import MLPRegressor\n",
    "from causalai.misc.misc import plot_graph\n",
    "\n",
    "def define_treatments(name, t,c):\n",
    "    treatment = dict(var_name=name,\n",
    "                    treatment_value=t,\n",
    "                    control_value=c)\n",
    "    return treatment\n",
    "\n"
   ]
  },
  {
   "cell_type": "markdown",
   "id": "b0284477",
   "metadata": {},
   "source": [
    "## Continuous Data"
   ]
  },
  {
   "cell_type": "markdown",
   "id": "8c60a231",
   "metadata": {},
   "source": [
    "### Average Treatment Effect (ATE)\n",
    "For this example, we will use synthetic data that has linear dependence among data variables."
   ]
  },
  {
   "cell_type": "code",
   "execution_count": 3,
   "id": "e3c8f410",
   "metadata": {
    "scrolled": false
   },
   "outputs": [
    {
     "data": {
      "image/png": "[encoded data removed]",
      "text/plain": [
       "<Figure size 640x480 with 1 Axes>"
      ]
     },
     "metadata": {},
     "output_type": "display_data"
    },
    {
     "data": {
      "text/plain": [
       "{'a': [],\n",
       " 'b': ['a', 'f'],\n",
       " 'c': ['b', 'f'],\n",
       " 'd': ['b', 'g'],\n",
       " 'e': ['f'],\n",
       " 'f': [],\n",
       " 'g': []}"
      ]
     },
     "execution_count": 3,
     "metadata": {},
     "output_type": "execute_result"
    }
   ],
   "source": [
    "fn = lambda x:x\n",
    "coef = 0.5\n",
    "sem = {\n",
    "        'a': [], \n",
    "        'b': [('a', coef, fn), ('f', coef, fn)], \n",
    "        'c': [('b', coef, fn), ('f', coef, fn)],\n",
    "        'd': [('b', coef, fn), ('g', coef, fn)],\n",
    "        'e': [('f', coef, fn)], \n",
    "        'f': [],\n",
    "        'g': [],\n",
    "        }\n",
    "T = 5000\n",
    "data, var_names, graph_gt = DataGenerator(sem, T=T, seed=0, discrete=False)\n",
    "plot_graph(graph_gt, node_size=500)\n",
    "graph_gt"
   ]
  },
  {
   "cell_type": "code",
   "execution_count": 4,
   "id": "13ea46e4",
   "metadata": {},
   "outputs": [
    {
     "name": "stdout",
     "output_type": "stream",
     "text": [
      "True ATE = 6.00\n"
     ]
    }
   ],
   "source": [
    "\n",
    "# Notice c does not depend on a if we intervene on b. Hence intervening a has no effect in this case. \n",
    "# This can be verified by changing the intervention values of variable a, which should have no impact on the \n",
    "# counterfactual. \n",
    "# (see graph_gt above)\n",
    "t1='a' \n",
    "t2='b'\n",
    "target = 'c'\n",
    "target_var = var_names.index(target)\n",
    "\n",
    "# treatment values\n",
    "intervention11 = 100*np.ones(T)\n",
    "intervention21 = 10*np.ones(T)\n",
    "intervention_data1,_,_ = DataGenerator(sem, T=T, seed=0,\n",
    "                        intervention={t1:intervention11, t2:intervention21})\n",
    "\n",
    "# control values\n",
    "intervention12 = -0.*np.ones(T)\n",
    "intervention22 = -2.*np.ones(T)\n",
    "intervention_data2,_,_ = DataGenerator(sem, T=T, seed=0,\n",
    "                        intervention={t1:intervention12, t2:intervention22})\n",
    "\n",
    "\n",
    "\n",
    "true_effect = (intervention_data1[:,target_var] - intervention_data2[:,target_var]).mean()\n",
    "print(\"True ATE = %.2f\" %true_effect)"
   ]
  },
  {
   "cell_type": "markdown",
   "id": "c8e2b3cd",
   "metadata": {},
   "source": [
    "We support two causal inference method-- backdoor method, and an in-house method that we call causal_path. We use both below."
   ]
  },
  {
   "cell_type": "code",
   "execution_count": 5,
   "id": "561f5875",
   "metadata": {
    "scrolled": true
   },
   "outputs": [
    {
     "name": "stdout",
     "output_type": "stream",
     "text": [
      "Estimated ATE using causal_path method: 6.38\n",
      "0.01s\n",
      "Estimated ATE using backdoor method: 7.21\n",
      "0.01s\n"
     ]
    }
   ],
   "source": [
    "treatments = [define_treatments(t1, intervention11,intervention12),\\\n",
    "             define_treatments(t2, intervention21,intervention22)]\n",
    "\n",
    "tic = time.time()\n",
    "# CausalInference_ = CausalInference(data, var_names, graph_gt,\\\n",
    "#         partial(MLPRegressor, hidden_layer_sizes=(100,100)) , False)\n",
    "CausalInference_ = CausalInference(data, var_names, graph_gt, LinearRegression , discrete=False, method='causal_path')\n",
    "\n",
    "ate, y_treat,y_control = CausalInference_.ate(target, treatments)\n",
    "print(f'Estimated ATE using causal_path method: {ate:.2f}')\n",
    "toc = time.time()\n",
    "print(f'{toc-tic:.2f}s')\n",
    "\n",
    "\n",
    "tic = time.time()\n",
    "# CausalInference_ = CausalInference(data, var_names, graph_gt,\\\n",
    "#         partial(MLPRegressor, hidden_layer_sizes=(100,100)) , False)\n",
    "CausalInference_ = CausalInference(data, var_names, graph_gt, LinearRegression , discrete=False, method='backdoor')\n",
    "\n",
    "ate, y_treat,y_control = CausalInference_.ate(target, treatments)\n",
    "print(f'Estimated ATE using backdoor method: {ate:.2f}')\n",
    "toc = time.time()\n",
    "print(f'{toc-tic:.2f}s')\n",
    "\n"
   ]
  },
  {
   "cell_type": "markdown",
   "id": "7c556c77",
   "metadata": {},
   "source": [
    "**NOTE**: We find the backdoor method to exhibit a high variance in the ATE etimation, and this variance reduces with larger number of data samples. Therefore, the results from the Backdoor method may seem off at times, especially with smaller sample size. We find the causal_path method on the other hand to be much more robust."
   ]
  },
  {
   "cell_type": "markdown",
   "id": "67b4ae98",
   "metadata": {},
   "source": [
    "### Conditional Average Treatement Effect (CATE)\n",
    "\n",
    "The data is generated using the following structural equation model:\n",
    "$$C = noise$$\n",
    "$$W = C + noise$$\n",
    "$$X = C*W + noise$$\n",
    "$$Y = C*X + noise$$\n",
    "\n",
    "We will treat C as the condition variable, X as the intervention variable, and Y as the target variable in our example below. The noise used in our example is sampled from the standard Gaussian distribution."
   ]
  },
  {
   "cell_type": "code",
   "execution_count": 6,
   "id": "922a91c4",
   "metadata": {
    "scrolled": true
   },
   "outputs": [
    {
     "data": {
      "text/plain": [
       "{'C': [], 'W': ['C'], 'X': ['C', 'W'], 'Y': ['C', 'X']}"
      ]
     },
     "execution_count": 6,
     "metadata": {},
     "output_type": "execute_result"
    }
   ],
   "source": [
    "T=500\n",
    "data, var_names, graph_gt = ConditionalDataGenerator(T=T, data_type='tabular', seed=0, discrete=False)\n",
    "# var_names = ['C', 'W', 'X', 'Y']\n",
    "treatment_var='X'\n",
    "target = 'Y'\n",
    "target_idx = var_names.index(target)\n",
    "\n",
    "\n",
    "intervention1 = 0.1*np.ones(T, dtype=int)\n",
    "intervention_data1,_,_ = ConditionalDataGenerator(T=T, data_type='tabular',\\\n",
    "                                    seed=0, intervention={treatment_var:intervention1}, discrete=False)\n",
    "\n",
    "intervention2 = 0.9*np.ones(T, dtype=int)\n",
    "intervention_data2,_,_ = ConditionalDataGenerator(T=T, data_type='tabular',\\\n",
    "                                    seed=0, intervention={treatment_var:intervention2}, discrete=False)\n",
    "graph_gt"
   ]
  },
  {
   "cell_type": "code",
   "execution_count": 7,
   "id": "af777ae7",
   "metadata": {
    "scrolled": true
   },
   "outputs": [
    {
     "name": "stdout",
     "output_type": "stream",
     "text": [
      "Approx True CATE: -1.65\n",
      "Estimated CATE using causal_path method: -1.61\n",
      "Time taken: 0.54s\n",
      "Estimated CATE using backdoor method: -1.31\n",
      "Time taken: 0.45s\n"
     ]
    }
   ],
   "source": [
    "condition_state=2.1\n",
    "diff = np.abs(data[:,0] - condition_state)\n",
    "idx = np.argmin(diff)\n",
    "# assert diff[idx]<0.1, f'No observational data exists for the conditional variable close to {condition_state}'\n",
    "\n",
    "\n",
    "cate_gt = (intervention_data1[idx,target_idx] - intervention_data2[idx,target_idx])\n",
    "print(f'Approx True CATE: {cate_gt:.2f}')\n",
    "\n",
    "####\n",
    "treatments = define_treatments(treatment_var, intervention1,intervention2)\n",
    "conditions = {'var_name': 'C', 'condition_value': condition_state}\n",
    "\n",
    "tic = time.time()\n",
    "model = partial(MLPRegressor, hidden_layer_sizes=(100,100), max_iter=200)\n",
    "CausalInference_ = CausalInference(data, var_names, graph_gt, model, discrete=False, method='causal_path')#\n",
    "\n",
    "cate = CausalInference_.cate(target, treatments, conditions, model)\n",
    "toc = time.time()\n",
    "print(f'Estimated CATE using causal_path method: {cate:.2f}')\n",
    "print(f'Time taken: {toc-tic:.2f}s')\n",
    "\n",
    "tic = time.time()\n",
    "model = partial(MLPRegressor, hidden_layer_sizes=(100,100), max_iter=200)\n",
    "CausalInference_ = CausalInference(data, var_names, graph_gt, model, discrete=False, method='backdoor')#\n",
    "\n",
    "cate = CausalInference_.cate(target, treatments, conditions, model)\n",
    "toc = time.time()\n",
    "print(f'Estimated CATE using backdoor method: {cate:.2f}')\n",
    "print(f'Time taken: {toc-tic:.2f}s')"
   ]
  },
  {
   "cell_type": "markdown",
   "id": "83dd5ede",
   "metadata": {},
   "source": [
    "NOTE: We find the backdoor method to exhibit a high variance, and this variance reduces with larger number of data samples. Therefore, the results from the Backdoor method may seem off at times, especially with smaller sample size. We find the causal_path method on the other hand to be much more robust."
   ]
  },
  {
   "cell_type": "markdown",
   "id": "61659f76",
   "metadata": {},
   "source": [
    "### Counterfactual\n",
    "\n"
   ]
  },
  {
   "cell_type": "code",
   "execution_count": 8,
   "id": "110b633a",
   "metadata": {},
   "outputs": [
    {
     "data": {
      "image/png": "[encoded data removed]",
      "text/plain": [
       "<Figure size 640x480 with 1 Axes>"
      ]
     },
     "metadata": {},
     "output_type": "display_data"
    }
   ],
   "source": [
    "\n",
    "# sem_dict = GenerateRandomTabularSEM(var_names=['a', 'b', 'c', 'd', 'e', 'f'],\\\n",
    "#                                max_num_parents=4, seed=3, fn = lambda x:x, coef=0.8)\n",
    "# data, var_names, graph_gt = DataGenerator(sem_dict, T=10000, noise_fn=None,\\\n",
    "#                                     intervention=None, discrete=False, nstates=10, seed=1)\n",
    "\n",
    "fn = lambda x:x\n",
    "coef = 0.5\n",
    "sem = {\n",
    "        'a': [], \n",
    "        'b': [('a', coef, fn), ('f', coef, fn)], \n",
    "        'c': [('b', coef, fn), ('f', coef, fn)],\n",
    "        'd': [('b', coef, fn), ('g', coef, fn)],\n",
    "        'e': [('f', coef, fn)], \n",
    "        'f': [],\n",
    "        'g': [],\n",
    "        }\n",
    "T = 400\n",
    "data, var_names, graph_gt = DataGenerator(sem, T=T, seed=0, discrete=False)\n",
    "plot_graph(graph_gt, node_size=500)\n",
    "graph_gt\n",
    "\n",
    "intervention={'a':np.array([10.]*10), 'e':np.array([-0.]*10)}\n",
    "target_var = 'c'\n",
    "\n",
    "sample, _, _= DataGenerator(sem, T=10, noise_fn=None,\\\n",
    "                                    intervention=None, discrete=False, nstates=10, seed=1)\n",
    "sample_intervened, _, _= DataGenerator(sem, T=10, noise_fn=None,\\\n",
    "                                    intervention=intervention, discrete=False, nstates=10, seed=1)\n",
    "\n",
    "sample=sample[0]\n",
    "sample_intervened=sample_intervened[0]\n",
    "var_orig = sample[var_names.index(target_var)]\n",
    "var_counterfactual_gt = sample_intervened[var_names.index(target_var)]\n",
    "# print(f'Original value of var {target_var}: {var_orig:.2f}')"
   ]
  },
  {
   "cell_type": "code",
   "execution_count": 9,
   "id": "d25a80f7",
   "metadata": {},
   "outputs": [
    {
     "name": "stdout",
     "output_type": "stream",
     "text": [
      "True counterfactual 3.33\n",
      "Estimated counterfactual using the causal_path method 3.13\n",
      "Estimated counterfactual using the backdoor method 1.45\n"
     ]
    }
   ],
   "source": [
    "interventions = {name:float(val[0]) for name, val in intervention.items()}\n",
    "print(f'True counterfactual {var_counterfactual_gt:.2f}')\n",
    "\n",
    "# model = partial(MLPRegressor, hidden_layer_sizes=(100,100), max_iter=200)\n",
    "model = LinearRegression\n",
    "\n",
    "CausalInference_ = CausalInference(data, var_names, graph_gt, model, discrete=False, method='causal_path')\n",
    "# model = None\n",
    "counterfactual_et = CausalInference_.counterfactual(sample, target_var, interventions, model)\n",
    "\n",
    "print(f'Estimated counterfactual using the causal_path method {counterfactual_et:.2f}')\n",
    "\n",
    "\n",
    "CausalInference_ = CausalInference(data, var_names, graph_gt, model, discrete=False, method='backdoor')\n",
    "# model = None\n",
    "counterfactual_et = CausalInference_.counterfactual(sample, target_var, interventions, model)\n",
    "print(f'Estimated counterfactual using the backdoor method {counterfactual_et:.2f}')"
   ]
  },
  {
   "cell_type": "markdown",
   "id": "08620dfc",
   "metadata": {},
   "source": [
    "NOTE: We find the backdoor method to exhibit a high variance, and this variance reduces with larger number of data samples. Therefore, the results from the Backdoor method may seem off at times, especially with smaller sample size. We find the causal_path method on the other hand to be much more robust."
   ]
  },
  {
   "cell_type": "markdown",
   "id": "012f282e",
   "metadata": {},
   "source": [
    "## Discrete Data\n",
    "\n",
    "The synthetic data generation procedure for the ATE, CATE and Counterfactual examples below are identical to the procedure followed above for the continuous case, except that the generated data is discrete in the cases below. \n",
    "\n",
    "**Importantly**, when referring as discrete, we only treat the intervention variables as discrete in this case. The target variables and other variables are considered as continuous. Specifically, it doesn't make sense for the target variable to be discrete when we compute ATE or CATE, because it involves estimating the difference in states of the target variable, and for discrete variables, the difference between two states is not a meaningful quantity (as discrete states are symbolic in nature)."
   ]
  },
  {
   "cell_type": "markdown",
   "id": "09a37cd3",
   "metadata": {},
   "source": [
    "### Average Treatment Effect (ATE)\n",
    " For this example, we will use synthetic data that has linear dependence among data variables."
   ]
  },
  {
   "cell_type": "code",
   "execution_count": 10,
   "id": "f2e764ad",
   "metadata": {},
   "outputs": [],
   "source": [
    "import numpy as np\n",
    "import matplotlib\n",
    "from matplotlib import pyplot as plt\n",
    "import pickle as pkl\n",
    "import time\n",
    "from functools import partial\n",
    "\n",
    "from causalai.data.data_generator import DataGenerator, ConditionalDataGenerator\n",
    "from causalai.models.tabular.causal_inference import CausalInference\n",
    "from sklearn.linear_model import LinearRegression\n",
    "from sklearn.neural_network import MLPRegressor\n",
    "from causalai.misc.misc import plot_graph\n",
    "\n",
    "def define_treatments(name, t,c):\n",
    "    treatment = dict(var_name=name,\n",
    "                    treatment_value=t,\n",
    "                    control_value=c)\n",
    "    return treatment"
   ]
  },
  {
   "cell_type": "code",
   "execution_count": 11,
   "id": "4214321e",
   "metadata": {},
   "outputs": [
    {
     "data": {
      "text/plain": [
       "{'a': [],\n",
       " 'b': ['a', 'f'],\n",
       " 'c': ['b', 'f'],\n",
       " 'd': ['b', 'b', 'g'],\n",
       " 'e': ['f'],\n",
       " 'f': [],\n",
       " 'g': []}"
      ]
     },
     "execution_count": 11,
     "metadata": {},
     "output_type": "execute_result"
    }
   ],
   "source": [
    "fn = lambda x:x\n",
    "coef = 0.6\n",
    "sem = {\n",
    "        'a': [], \n",
    "        'b': [('a', coef, fn), ('f', coef, fn)], \n",
    "        'c': [('b', coef, fn), ('f', coef, fn)],\n",
    "        'd': [('b', coef, fn), ('b', coef, fn), ('g', coef, fn)],\n",
    "        'e': [('f', coef, fn)], \n",
    "        'f': [],\n",
    "        'g': [],\n",
    "        }\n",
    "T = 5000\n",
    "\n",
    "t1='a'\n",
    "t2='b'\n",
    "target = 'c'\n",
    "discrete = {name:True if name in [t1,t2] else False for name in sem.keys()}\n",
    "\n",
    "data, var_names, graph_gt = DataGenerator(sem, T=T, seed=0, discrete=discrete, nstates=10)\n",
    "\n",
    "graph_gt"
   ]
  },
  {
   "cell_type": "markdown",
   "id": "4918816b",
   "metadata": {},
   "source": [
    "Notice how we specify the variable discrete above. We specify the intervention variables as discrete, while the others as continuous, as per our explanation above."
   ]
  },
  {
   "cell_type": "code",
   "execution_count": 12,
   "id": "c6831c23",
   "metadata": {},
   "outputs": [
    {
     "name": "stdout",
     "output_type": "stream",
     "text": [
      "Ground truth ATE = -2.83\n"
     ]
    }
   ],
   "source": [
    "\n",
    "\n",
    "target_var = var_names.index(target)\n",
    "# note that states can be [0,1,...,9], so the multiples below must be in this range\n",
    "intervention11 = 0*np.ones(T, dtype=int)\n",
    "intervention21 = 1*np.ones(T, dtype=int)\n",
    "intervention_data1,_,_ = DataGenerator(sem, T=T, seed=0,\n",
    "                            intervention={t1: intervention11, t2:intervention21}, discrete=discrete, nstates=10)\n",
    "\n",
    "intervention12 = 9*np.ones(T, dtype=int)\n",
    "intervention22 = 9*np.ones(T, dtype=int)\n",
    "intervention_data2,_,_ = DataGenerator(sem, T=T, seed=0,\n",
    "                            intervention={t1:intervention12, t2:intervention22}, discrete=discrete, nstates=10)\n",
    "\n",
    "true_effect = (intervention_data1[:,target_var] - intervention_data2[:,target_var]).mean()\n",
    "print(\"Ground truth ATE = %.2f\" %true_effect)"
   ]
  },
  {
   "cell_type": "code",
   "execution_count": 13,
   "id": "f04b71fe",
   "metadata": {
    "scrolled": true
   },
   "outputs": [
    {
     "name": "stdout",
     "output_type": "stream",
     "text": [
      "Estimated ATE: -2.17\n",
      "Time taken: 1.41s\n"
     ]
    }
   ],
   "source": [
    "\n",
    "tic = time.time()\n",
    "\n",
    "treatments = [define_treatments(t1, intervention11,intervention12),\\\n",
    "             define_treatments(t2, intervention21,intervention22)]\n",
    "model = partial(MLPRegressor, hidden_layer_sizes=(100,100), max_iter=200) # LinearRegression\n",
    "CausalInference_ = CausalInference(data, var_names, graph_gt, model, discrete=True)#\n",
    "o, y_treat,y_control = CausalInference_.ate(target, treatments)\n",
    "print(f'Estimated ATE: {o:.2f}')\n",
    "toc = time.time()\n",
    "print(f'Time taken: {toc-tic:.2f}s')\n"
   ]
  },
  {
   "cell_type": "markdown",
   "id": "04c54165",
   "metadata": {},
   "source": [
    "### CATE (conditional ATE)\n",
    "For this example we will use synthetic data that has non-linear dependence among data variables."
   ]
  },
  {
   "cell_type": "code",
   "execution_count": 14,
   "id": "b17db798",
   "metadata": {},
   "outputs": [
    {
     "data": {
      "text/plain": [
       "{'C': [], 'W': ['C'], 'X': ['C', 'W'], 'Y': ['C', 'X']}"
      ]
     },
     "execution_count": 14,
     "metadata": {},
     "output_type": "execute_result"
    }
   ],
   "source": [
    "T=5000\n",
    "treatment_var='X'\n",
    "target = 'Y'\n",
    "target_idx = ['C', 'W', 'X', 'Y'].index(target)\n",
    "\n",
    "discrete = {name:True if name==treatment_var else False for name in ['C', 'W', 'X', 'Y']}\n",
    "data, var_names, graph_gt = ConditionalDataGenerator(T=T, data_type='tabular', seed=0, discrete=discrete, nstates=10)\n",
    "# var_names = ['C', 'W', 'X', 'Y']\n",
    "\n",
    "\n",
    "\n",
    "# note that states can be [0,1,...,9], so the multiples below must be in this range\n",
    "intervention1 = 9*np.ones(T, dtype=int)\n",
    "intervention_data1,_,_ = ConditionalDataGenerator(T=T, data_type='tabular',\\\n",
    "                                    seed=0, intervention={treatment_var:intervention1}, discrete=discrete, nstates=10)\n",
    "\n",
    "intervention2 = 1*np.ones(T, dtype=int)\n",
    "intervention_data2,_,_ = ConditionalDataGenerator(T=T, data_type='tabular',\\\n",
    "                                    seed=0, intervention={treatment_var:intervention2}, discrete=discrete, nstates=10)\n",
    "graph_gt"
   ]
  },
  {
   "cell_type": "code",
   "execution_count": 15,
   "id": "1215519c",
   "metadata": {},
   "outputs": [
    {
     "name": "stdout",
     "output_type": "stream",
     "text": [
      "Approx True CATE: 4.61\n",
      "Estimated CATE: 1.55\n",
      "Time taken: 5.98s\n"
     ]
    }
   ],
   "source": [
    "condition_var = 'C'\n",
    "condition_var_idx = var_names.index(condition_var)\n",
    "# print(data[:,condition_var_idx].min(), data[:,condition_var_idx].max())\n",
    "condition_state=0.5\n",
    "idx = np.argmin(np.abs(data[:,condition_var_idx]-condition_state))\n",
    "cate_gt = (intervention_data1[idx,target_idx] - intervention_data2[idx,target_idx]).mean()\n",
    "print(f'Approx True CATE: {cate_gt:.2f}')\n",
    "\n",
    "####\n",
    "treatments = define_treatments(treatment_var, intervention1,intervention2)\n",
    "conditions = {'var_name': condition_var, 'condition_value': condition_state}\n",
    "\n",
    "tic = time.time()\n",
    "model = partial(MLPRegressor, hidden_layer_sizes=(100,100), max_iter=200)\n",
    "CausalInference_ = CausalInference(data, var_names, graph_gt, model, discrete=True)\n",
    "\n",
    "cate = CausalInference_.cate(target, treatments, conditions, model)\n",
    "toc = time.time()\n",
    "print(f'Estimated CATE: {cate:.2f}')\n",
    "print(f'Time taken: {toc-tic:.2f}s')"
   ]
  },
  {
   "cell_type": "markdown",
   "id": "8ce37074",
   "metadata": {},
   "source": [
    "### Couterfactual"
   ]
  },
  {
   "cell_type": "code",
   "execution_count": 16,
   "id": "f6a9919e",
   "metadata": {},
   "outputs": [],
   "source": [
    "fn = lambda x:x\n",
    "coef = 0.5\n",
    "sem = {\n",
    "        'a': [], \n",
    "        'b': [('a', coef, fn), ('f', coef, fn)], \n",
    "        'c': [('b', coef, fn), ('f', coef, fn)],\n",
    "        'd': [('b', coef, fn), ('g', coef, fn)],\n",
    "        'e': [('f', coef, fn)], \n",
    "        'f': [],\n",
    "        'g': [],\n",
    "        }\n",
    "\n",
    "intervention={'a':np.array([0]*10), 'e':np.array([0]*10)}\n",
    "target_var = 'c'\n",
    "discrete = {name:True if name in intervention.keys() else False for name in sem.keys()}\n",
    "\n",
    "T = 5000\n",
    "data, var_names, graph_gt = DataGenerator(sem, T=T, seed=0, discrete=discrete)\n",
    "# plot_graph(graph_gt, node_size=500)\n",
    "# graph_gt\n",
    "\n",
    "\n",
    "sample, _, _= DataGenerator(sem, T=10, noise_fn=None,\\\n",
    "                                    intervention=None, discrete=discrete, nstates=10, seed=1)\n",
    "sample_intervened, _, _= DataGenerator(sem, T=10, noise_fn=None,\\\n",
    "                                    intervention=intervention, discrete=discrete, nstates=10, seed=1)\n",
    "\n",
    "sample=sample[-1]\n",
    "sample_intervened=sample_intervened[-1]\n",
    "var_orig = sample[var_names.index(target_var)]\n",
    "var_counterfactual_gt = sample_intervened[var_names.index(target_var)]\n",
    "# print(f'Original value of target var {target_var}: {var_orig:.2f}')"
   ]
  },
  {
   "cell_type": "code",
   "execution_count": 17,
   "id": "7e4112d3",
   "metadata": {},
   "outputs": [
    {
     "name": "stdout",
     "output_type": "stream",
     "text": [
      "True counterfactual -0.68\n",
      "Estimated counterfactual -0.75\n"
     ]
    }
   ],
   "source": [
    "interventions = {name:float(val[0]) for name, val in intervention.items()}\n",
    "\n",
    "# model = partial(MLPRegressor, hidden_layer_sizes=(100,100), max_iter=200)\n",
    "model = LinearRegression\n",
    "# model=None\n",
    "CausalInference_ = CausalInference(data, var_names, graph_gt, model, discrete=True)\n",
    "counterfactual_et = CausalInference_.counterfactual(sample, target_var, interventions, model)\n",
    "print(f'True counterfactual {var_counterfactual_gt:.2f}')\n",
    "print(f'Estimated counterfactual {counterfactual_et:.2f}')"
   ]
  },
  {
   "cell_type": "code",
   "execution_count": null,
   "id": "dd298858",
   "metadata": {},
   "outputs": [],
   "source": []
  }
 ],
 "metadata": {
  "kernelspec": {
   "display_name": "Python 3 (ipykernel)",
   "language": "python",
   "name": "python3"
  },
  "language_info": {
   "codemirror_mode": {
    "name": "ipython",
    "version": 3
   },
   "file_extension": ".py",
   "mimetype": "text/x-python",
   "name": "python",
   "nbconvert_exporter": "python",
   "pygments_lexer": "ipython3",
   "version": "3.9.16"
  }
 },
 "nbformat": 4,
 "nbformat_minor": 5
}
